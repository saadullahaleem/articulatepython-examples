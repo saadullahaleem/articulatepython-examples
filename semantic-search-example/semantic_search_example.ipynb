{
  "nbformat": 4,
  "nbformat_minor": 0,
  "metadata": {
    "colab": {
      "provenance": []
    },
    "kernelspec": {
      "name": "python3",
      "display_name": "Python 3"
    },
    "language_info": {
      "name": "python"
    }
  },
  "cells": [
    {
      "cell_type": "code",
      "execution_count": null,
      "metadata": {
        "colab": {
          "base_uri": "https://localhost:8080/",
          "height": 1000
        },
        "id": "xePXyM7q1fxY",
        "outputId": "db37ca20-0d2e-49c8-d5c6-a22febf83765"
      },
      "outputs": [
        {
          "output_type": "stream",
          "name": "stdout",
          "text": [
            "Looking in indexes: https://pypi.org/simple, https://us-python.pkg.dev/colab-wheels/public/simple/\n",
            "Collecting openai\n",
            "  Downloading openai-0.27.5-py3-none-any.whl (71 kB)\n",
            "\u001b[2K     \u001b[90m━━━━━━━━━━━━━━━━━━━━━━━━━━━━━━━━━━━━━━━━\u001b[0m \u001b[32m71.6/71.6 kB\u001b[0m \u001b[31m2.7 MB/s\u001b[0m eta \u001b[36m0:00:00\u001b[0m\n",
            "\u001b[?25hCollecting transformers\n",
            "  Downloading transformers-4.28.1-py3-none-any.whl (7.0 MB)\n",
            "\u001b[2K     \u001b[90m━━━━━━━━━━━━━━━━━━━━━━━━━━━━━━━━━━━━━━━━\u001b[0m \u001b[32m7.0/7.0 MB\u001b[0m \u001b[31m74.4 MB/s\u001b[0m eta \u001b[36m0:00:00\u001b[0m\n",
            "\u001b[?25hCollecting pdfplumber\n",
            "  Downloading pdfplumber-0.9.0-py3-none-any.whl (46 kB)\n",
            "\u001b[2K     \u001b[90m━━━━━━━━━━━━━━━━━━━━━━━━━━━━━━━━━━━━━━━━\u001b[0m \u001b[32m46.1/46.1 kB\u001b[0m \u001b[31m6.1 MB/s\u001b[0m eta \u001b[36m0:00:00\u001b[0m\n",
            "\u001b[?25hRequirement already satisfied: numpy in /usr/local/lib/python3.10/dist-packages (1.22.4)\n",
            "Collecting pinecone-client\n",
            "  Downloading pinecone_client-2.2.1-py3-none-any.whl (177 kB)\n",
            "\u001b[2K     \u001b[90m━━━━━━━━━━━━━━━━━━━━━━━━━━━━━━━━━━━━━━\u001b[0m \u001b[32m177.2/177.2 kB\u001b[0m \u001b[31m23.9 MB/s\u001b[0m eta \u001b[36m0:00:00\u001b[0m\n",
            "\u001b[?25hRequirement already satisfied: tqdm in /usr/local/lib/python3.10/dist-packages (from openai) (4.65.0)\n",
            "Collecting aiohttp\n",
            "  Downloading aiohttp-3.8.4-cp310-cp310-manylinux_2_17_x86_64.manylinux2014_x86_64.whl (1.0 MB)\n",
            "\u001b[2K     \u001b[90m━━━━━━━━━━━━━━━━━━━━━━━━━━━━━━━━━━━━━━━━\u001b[0m \u001b[32m1.0/1.0 MB\u001b[0m \u001b[31m49.4 MB/s\u001b[0m eta \u001b[36m0:00:00\u001b[0m\n",
            "\u001b[?25hRequirement already satisfied: requests>=2.20 in /usr/local/lib/python3.10/dist-packages (from openai) (2.27.1)\n",
            "Collecting huggingface-hub<1.0,>=0.11.0\n",
            "  Downloading huggingface_hub-0.14.1-py3-none-any.whl (224 kB)\n",
            "\u001b[2K     \u001b[90m━━━━━━━━━━━━━━━━━━━━━━━━━━━━━━━━━━━━━━\u001b[0m \u001b[32m224.5/224.5 kB\u001b[0m \u001b[31m23.9 MB/s\u001b[0m eta \u001b[36m0:00:00\u001b[0m\n",
            "\u001b[?25hRequirement already satisfied: filelock in /usr/local/lib/python3.10/dist-packages (from transformers) (3.12.0)\n",
            "Collecting tokenizers!=0.11.3,<0.14,>=0.11.1\n",
            "  Downloading tokenizers-0.13.3-cp310-cp310-manylinux_2_17_x86_64.manylinux2014_x86_64.whl (7.8 MB)\n",
            "\u001b[2K     \u001b[90m━━━━━━━━━━━━━━━━━━━━━━━━━━━━━━━━━━━━━━━━\u001b[0m \u001b[32m7.8/7.8 MB\u001b[0m \u001b[31m70.8 MB/s\u001b[0m eta \u001b[36m0:00:00\u001b[0m\n",
            "\u001b[?25hRequirement already satisfied: packaging>=20.0 in /usr/local/lib/python3.10/dist-packages (from transformers) (23.1)\n",
            "Requirement already satisfied: regex!=2019.12.17 in /usr/local/lib/python3.10/dist-packages (from transformers) (2022.10.31)\n",
            "Requirement already satisfied: pyyaml>=5.1 in /usr/local/lib/python3.10/dist-packages (from transformers) (6.0)\n",
            "Collecting pdfminer.six==20221105\n",
            "  Downloading pdfminer.six-20221105-py3-none-any.whl (5.6 MB)\n",
            "\u001b[2K     \u001b[90m━━━━━━━━━━━━━━━━━━━━━━━━━━━━━━━━━━━━━━━━\u001b[0m \u001b[32m5.6/5.6 MB\u001b[0m \u001b[31m69.1 MB/s\u001b[0m eta \u001b[36m0:00:00\u001b[0m\n",
            "\u001b[?25hCollecting Wand>=0.6.10\n",
            "  Downloading Wand-0.6.11-py2.py3-none-any.whl (143 kB)\n",
            "\u001b[2K     \u001b[90m━━━━━━━━━━━━━━━━━━━━━━━━━━━━━━━━━━━━━━\u001b[0m \u001b[32m143.6/143.6 kB\u001b[0m \u001b[31m19.4 MB/s\u001b[0m eta \u001b[36m0:00:00\u001b[0m\n",
            "\u001b[?25hCollecting Pillow>=9.1\n",
            "  Downloading Pillow-9.5.0-cp310-cp310-manylinux_2_28_x86_64.whl (3.4 MB)\n",
            "\u001b[2K     \u001b[90m━━━━━━━━━━━━━━━━━━━━━━━━━━━━━━━━━━━━━━━━\u001b[0m \u001b[32m3.4/3.4 MB\u001b[0m \u001b[31m79.1 MB/s\u001b[0m eta \u001b[36m0:00:00\u001b[0m\n",
            "\u001b[?25hRequirement already satisfied: charset-normalizer>=2.0.0 in /usr/local/lib/python3.10/dist-packages (from pdfminer.six==20221105->pdfplumber) (2.0.12)\n",
            "Requirement already satisfied: cryptography>=36.0.0 in /usr/local/lib/python3.10/dist-packages (from pdfminer.six==20221105->pdfplumber) (40.0.2)\n",
            "Requirement already satisfied: python-dateutil>=2.5.3 in /usr/local/lib/python3.10/dist-packages (from pinecone-client) (2.8.2)\n",
            "Requirement already satisfied: typing-extensions>=3.7.4 in /usr/local/lib/python3.10/dist-packages (from pinecone-client) (4.5.0)\n",
            "Collecting loguru>=0.5.0\n",
            "  Downloading loguru-0.7.0-py3-none-any.whl (59 kB)\n",
            "\u001b[2K     \u001b[90m━━━━━━━━━━━━━━━━━━━━━━━━━━━━━━━━━━━━━━━━\u001b[0m \u001b[32m60.0/60.0 kB\u001b[0m \u001b[31m8.4 MB/s\u001b[0m eta \u001b[36m0:00:00\u001b[0m\n",
            "\u001b[?25hCollecting dnspython>=2.0.0\n",
            "  Downloading dnspython-2.3.0-py3-none-any.whl (283 kB)\n",
            "\u001b[2K     \u001b[90m━━━━━━━━━━━━━━━━━━━━━━━━━━━━━━━━━━━━━━\u001b[0m \u001b[32m283.7/283.7 kB\u001b[0m \u001b[31m33.7 MB/s\u001b[0m eta \u001b[36m0:00:00\u001b[0m\n",
            "\u001b[?25hRequirement already satisfied: urllib3>=1.21.1 in /usr/local/lib/python3.10/dist-packages (from pinecone-client) (1.26.15)\n",
            "Requirement already satisfied: fsspec in /usr/local/lib/python3.10/dist-packages (from huggingface-hub<1.0,>=0.11.0->transformers) (2023.4.0)\n",
            "Requirement already satisfied: six>=1.5 in /usr/local/lib/python3.10/dist-packages (from python-dateutil>=2.5.3->pinecone-client) (1.16.0)\n",
            "Requirement already satisfied: idna<4,>=2.5 in /usr/local/lib/python3.10/dist-packages (from requests>=2.20->openai) (3.4)\n",
            "Requirement already satisfied: certifi>=2017.4.17 in /usr/local/lib/python3.10/dist-packages (from requests>=2.20->openai) (2022.12.7)\n",
            "Collecting aiosignal>=1.1.2\n",
            "  Downloading aiosignal-1.3.1-py3-none-any.whl (7.6 kB)\n",
            "Collecting multidict<7.0,>=4.5\n",
            "  Downloading multidict-6.0.4-cp310-cp310-manylinux_2_17_x86_64.manylinux2014_x86_64.whl (114 kB)\n",
            "\u001b[2K     \u001b[90m━━━━━━━━━━━━━━━━━━━━━━━━━━━━━━━━━━━━━━\u001b[0m \u001b[32m114.5/114.5 kB\u001b[0m \u001b[31m17.4 MB/s\u001b[0m eta \u001b[36m0:00:00\u001b[0m\n",
            "\u001b[?25hCollecting frozenlist>=1.1.1\n",
            "  Downloading frozenlist-1.3.3-cp310-cp310-manylinux_2_5_x86_64.manylinux1_x86_64.manylinux_2_17_x86_64.manylinux2014_x86_64.whl (149 kB)\n",
            "\u001b[2K     \u001b[90m━━━━━━━━━━━━━━━━━━━━━━━━━━━━━━━━━━━━━━\u001b[0m \u001b[32m149.6/149.6 kB\u001b[0m \u001b[31m20.8 MB/s\u001b[0m eta \u001b[36m0:00:00\u001b[0m\n",
            "\u001b[?25hCollecting yarl<2.0,>=1.0\n",
            "  Downloading yarl-1.9.2-cp310-cp310-manylinux_2_17_x86_64.manylinux2014_x86_64.whl (268 kB)\n",
            "\u001b[2K     \u001b[90m━━━━━━━━━━━━━━━━━━━━━━━━━━━━━━━━━━━━━━\u001b[0m \u001b[32m268.8/268.8 kB\u001b[0m \u001b[31m31.9 MB/s\u001b[0m eta \u001b[36m0:00:00\u001b[0m\n",
            "\u001b[?25hCollecting async-timeout<5.0,>=4.0.0a3\n",
            "  Downloading async_timeout-4.0.2-py3-none-any.whl (5.8 kB)\n",
            "Requirement already satisfied: attrs>=17.3.0 in /usr/local/lib/python3.10/dist-packages (from aiohttp->openai) (23.1.0)\n",
            "Requirement already satisfied: cffi>=1.12 in /usr/local/lib/python3.10/dist-packages (from cryptography>=36.0.0->pdfminer.six==20221105->pdfplumber) (1.15.1)\n",
            "Requirement already satisfied: pycparser in /usr/local/lib/python3.10/dist-packages (from cffi>=1.12->cryptography>=36.0.0->pdfminer.six==20221105->pdfplumber) (2.21)\n",
            "Installing collected packages: Wand, tokenizers, Pillow, multidict, loguru, frozenlist, dnspython, async-timeout, yarl, pinecone-client, huggingface-hub, aiosignal, transformers, pdfminer.six, aiohttp, pdfplumber, openai\n",
            "  Attempting uninstall: Pillow\n",
            "    Found existing installation: Pillow 8.4.0\n",
            "    Uninstalling Pillow-8.4.0:\n",
            "      Successfully uninstalled Pillow-8.4.0\n",
            "Successfully installed Pillow-9.5.0 Wand-0.6.11 aiohttp-3.8.4 aiosignal-1.3.1 async-timeout-4.0.2 dnspython-2.3.0 frozenlist-1.3.3 huggingface-hub-0.14.1 loguru-0.7.0 multidict-6.0.4 openai-0.27.5 pdfminer.six-20221105 pdfplumber-0.9.0 pinecone-client-2.2.1 tokenizers-0.13.3 transformers-4.28.1 yarl-1.9.2\n"
          ]
        },
        {
          "output_type": "display_data",
          "data": {
            "application/vnd.colab-display-data+json": {
              "pip_warning": {
                "packages": [
                  "PIL"
                ]
              }
            }
          },
          "metadata": {}
        }
      ],
      "source": [
        "!pip install openai transformers pdfplumber numpy pinecone-client"
      ]
    },
    {
      "cell_type": "code",
      "source": [
        "import os\n",
        "import openai\n",
        "openai.organization = \"<your_organization_key>\"\n",
        "openai.api_key = \"<your_api_key>\""
      ],
      "metadata": {
        "id": "_S0rd5jF1mio"
      },
      "execution_count": null,
      "outputs": []
    },
    {
      "cell_type": "code",
      "source": [
        "import pdfplumber\n",
        "\n",
        "pdf_path = \"essayonessaywriting.pdf\"\n",
        "text = \"\"\n",
        "\n",
        "with pdfplumber.open(pdf_path) as pdf:\n",
        "    for page in pdf.pages:\n",
        "        text += page.extract_text()\n",
        "\n",
        "def split_text_into_chunks(text, chunk_size=100):\n",
        "    words = text.split()\n",
        "    text_chunks = []\n",
        "    for i in range(0, len(words), chunk_size):\n",
        "        chunk = ' '.join(words[i:i+chunk_size])\n",
        "        text_chunks.append(chunk)\n",
        "    return text_chunks\n",
        "\n",
        "text_chunks = split_text_into_chunks(text)\n"
      ],
      "metadata": {
        "id": "dtH7l9WG6KVg"
      },
      "execution_count": null,
      "outputs": []
    },
    {
      "cell_type": "code",
      "source": [
        "import numpy as np\n",
        "\n",
        "def create_embedding(chunk):\n",
        "    response = openai.Embedding.create(\n",
        "            input=chunk,\n",
        "            model=\"text-embedding-ada-002\"\n",
        "        )\n",
        "    return response[\"data\"][0][\"embedding\"]\n",
        "\n",
        "def create_embeddings(text_chunks):\n",
        "    embeddings = []\n",
        "\n",
        "    for chunk in text_chunks:\n",
        "        response = openai.Embedding.create(\n",
        "            input=chunk,\n",
        "            model=\"text-embedding-ada-002\"\n",
        "        )\n",
        "        embedding = response[\"data\"][0][\"embedding\"]\n",
        "        embeddings.append(embedding)\n",
        "\n",
        "    return np.array(embeddings)\n",
        "\n",
        "embeddings = create_embeddings(text_chunks)"
      ],
      "metadata": {
        "id": "OD7Gteq8OfQ8"
      },
      "execution_count": null,
      "outputs": []
    },
    {
      "cell_type": "code",
      "source": [
        "import pinecone\n",
        "\n",
        "pinecone.init(api_key=\"<pinecone_api_key>\", environment=\"us-east4-gcp\")\n",
        "index_name = \"semanticsearch\"\n",
        "pinecone.create_index(name=index_name, metric=\"cosine\", dimension=1536)\n"
      ],
      "metadata": {
        "id": "f5bc0DY2TFGD"
      },
      "execution_count": null,
      "outputs": []
    },
    {
      "cell_type": "code",
      "source": [
        "import uuid\n",
        "pinecone_index = pinecone.Index(index_name=index_name)\n",
        "\n",
        "for chunk in text_chunks:\n",
        "    id = uuid.uuid4().hex\n",
        "    embedding = create_embedding(chunk)\n",
        "    pinecone_index.upsert([(id, embedding, {\n",
        "                \"text\": chunk})])"
      ],
      "metadata": {
        "id": "ElyVXw_H_ngr"
      },
      "execution_count": null,
      "outputs": []
    },
    {
      "cell_type": "code",
      "source": [
        "query = \"how to relate ideas?\"\n",
        "response = openai.Embedding.create(\n",
        "    input=query,\n",
        "    model=\"text-embedding-ada-002\"\n",
        ")\n",
        "query_embedding = response[\"data\"][0][\"embedding\"]"
      ],
      "metadata": {
        "id": "SACGiQbWuFcz"
      },
      "execution_count": null,
      "outputs": []
    },
    {
      "cell_type": "code",
      "source": [
        "num_results = 5\n",
        "index = pinecone.Index(\"semanticsearch\")\n",
        "results = index.query(query_embedding, k=num_results, top_k=5, include_metadata=True)\n",
        "print(\"Search results for the query:\", query)\n",
        "for match in results[\"matches\"]:\n",
        "    print(f\"Text chunk: {match['metadata']['text']}\")\n",
        "    print(f\"Similarity score: {match['score']}\")\n",
        "    print(\"\\n\")\n"
      ],
      "metadata": {
        "colab": {
          "base_uri": "https://localhost:8080/"
        },
        "id": "TloACCNC8NOA",
        "outputId": "d86e7191-7f0d-4734-ca6b-887ecbb32920"
      },
      "execution_count": null,
      "outputs": [
        {
          "output_type": "stream",
          "name": "stdout",
          "text": [
            "Search results for the query: how to relate ideas?\n",
            "Text chunk: other topic and then coming back to the first. If you use such words as ‘therefore’, make sure that what you say next really does follow from what you have just said. Think about your audience: who are you writing for? It is often better to think of your reader not as your lecturer or tutor, but as someone who may not know very much about the question. If you have your tutor in mind as the reader, it is all too easy to fall into the trap of thinking, ‘If it’s not quite clear, Dr so-and-so will understand what\n",
            "Similarity score: 0.819455445\n",
            "\n",
            "\n",
            "Text chunk: I’m trying to say and fill in the gaps.’ If, however, you think of yourself as having to explain a topic to another student on the course who perhaps hasn’t done the same reading as you, it forces you to think more carefully about how to introduce and explain the topic. At various strategic points in the essay, remind your reader where you are in your overall structure by using such phrases as ‘First … Secondly …’, ‘Turning now to …’, ‘Before we move on to …’, ‘Finally …’. Sometimes it helps to use headings and subheadings to signal changes\n",
            "Similarity score: 0.819333315\n",
            "\n",
            "\n",
            "Text chunk: 11 T. W. and C. A. F. Rhys Davids, Dialogues of the Buddha, 3 vols (London: Pali Text Society, 1899– 1921), I 31. 5There are various things you can do to try to improve your awareness of structure. Order your thoughts and try to group ideas. Try to avoid ending up with a random list of points joined together implicitly or explicitly by some such statement as ‘and another thing …’. Think about the sequence in which you present ideas and try to group all points relating to one topic together; try to avoid introducing some topic, meandering into some\n",
            "Similarity score: 0.816040754\n",
            "\n",
            "\n",
            "Text chunk: particular attention to the question. Often there are basic clues on how to structure an essay in the question. Many questions in effect invite you to consider two (or more) sides of an argument: ‘To what extent … ?’ ‘How far do … ?’ ‘ “This alone is the truth of the matter.” Discuss.’ Even if you feel fairly sure of the line you want to take, put yourself in the position of someone trying to argue the opposite or some other position and try to think of the sorts of arguments that he or she might come up with.\n",
            "Similarity score: 0.813789248\n",
            "\n",
            "\n",
            "Text chunk: attention to various details and conventions of presentation will result in good presentation, while ordering and dividing your essay – at least notionally – into different parts, each consisting of various subdivisions and headings, should make for good structure. 2483 words (including notes and bibliography). 7Bibliography Altizer, T., The Contemporary Jesus (London: SCM Press, 1998). Anderson, Carol S., Pain and its Ending: the Four Noble Truths in the Theravåda Buddhist Canon (Richmond: Curzon, 1999). Bankier, D., ‘German Public Awareness of the Final Solution’, in The Final Solution: Origins and Implementation ed. by D. Cesarani (London: Routledge, 1994), pp. 112–140. Shakespeare,\n",
            "Similarity score: 0.797550917\n",
            "\n",
            "\n"
          ]
        }
      ]
    }
  ]
}